{
 "cells": [
  {
   "cell_type": "code",
   "execution_count": 32,
   "metadata": {},
   "outputs": [],
   "source": [
    "import os\n",
    "import sys\n",
    "import warnings\n",
    "\n",
    "import pandas as pd\n",
    "import numpy as np\n",
    "from scipy import stats\n",
    "from sklearn.model_selection import RandomizedSearchCV\n",
    "from sklearn.base import BaseEstimator, RegressorMixin\n",
    "from sklearn.utils.metaestimators import _BaseComposition\n",
    "from sklearn.preprocessing import StandardScaler, OneHotEncoder\n",
    "from sklearn.pipeline import make_pipeline\n",
    "from sklearn.model_selection import train_test_split\n",
    "from sklearn.compose import ColumnTransformer\n",
    "from sklearn.linear_model import Ridge, Lasso\n",
    "from sklearn.ensemble import GradientBoostingRegressor, RandomForestRegressor\n",
    "from sklearn.svm import LinearSVR\n",
    "from sklearn.ensemble import BaggingRegressor\n",
    "from sklearn.exceptions import DataConversionWarning\n",
    "from xgboost import XGBRegressor\n",
    "from mlxtend.regressor import StackingRegressor\n",
    "from mlxtend.evaluate import combined_ftest_5x2cv\n",
    "\n",
    "PROJECT_PATH = os.path.abspath(os.path.join(os.getcwd(), '../'))\n",
    "\n",
    "if PROJECT_PATH not in sys.path:\n",
    "    sys.path.append(PROJECT_PATH)\n",
    "    \n",
    "from server.ml_models.all_model import AllModel, AllModelData\n",
    "from server.ml_models.sklearn import AveragingRegressor\n",
    "from src.model.metrics import measure_estimators, yearly_performance_scores\n",
    "from src.model.charts import graph_cv_model_performance, graph_yearly_model_performance\n",
    "from server.ml_models.data_config import TEAM_NAMES, ROUND_TYPES\n",
    "\n",
    "\n",
    "SEED = 42\n",
    "N_ITER = 5\n",
    "CV = 5\n",
    "\n",
    "np.random.seed(SEED)"
   ]
  },
  {
   "cell_type": "markdown",
   "metadata": {},
   "source": [
    "## Compare averaging, stacking, and bagging"
   ]
  },
  {
   "cell_type": "code",
   "execution_count": 4,
   "metadata": {
    "scrolled": true
   },
   "outputs": [],
   "source": [
    "# Take top-performing models from all data notebook (6.2-all-data-nn)\n",
    "\n",
    "# Using ColumnTransformer to run OneHotEncoder & StandardScaler causes this warning when using BaggingRegressor,\n",
    "# because BR converts the DataFrame to a numpy array, which results in all rows having type 'object',\n",
    "# because they include strings and floats\n",
    "warnings.simplefilter(\"ignore\", DataConversionWarning)\n",
    "\n",
    "PIPELINE_STEPS = [\n",
    "    ColumnTransformer(\n",
    "        [\n",
    "            (\n",
    "                \"onehotencoder\",\n",
    "                OneHotEncoder(\n",
    "                    categories=[TEAM_NAMES, TEAM_NAMES, ROUND_TYPES], sparse=False\n",
    "                ),\n",
    "                slice(0, 3),\n",
    "            ),\n",
    "        ],\n",
    "        remainder=StandardScaler(),\n",
    "    ),\n",
    "]\n",
    "ESTIMATORS = [\n",
    "    ('ridge', Ridge()),\n",
    "    ('gradientboostingregressor', GradientBoostingRegressor()),\n",
    "    ('linearsvr', LinearSVR()),\n",
    "    ('xgbregressor', XGBRegressor()),\n",
    "]\n",
    "\n",
    "models = []\n",
    "\n",
    "for name, estimator in ESTIMATORS:\n",
    "    model = AllModel(pipeline=make_pipeline(*PIPELINE_STEPS, estimator), name=name)\n",
    "    models.append((name, model))\n",
    "\n",
    "all_model = AllModel(pipeline=make_pipeline(*PIPELINE_STEPS, XGBRegressor()))\n",
    "bag_model = BaggingRegressor(base_estimator=all_model)\n",
    "avg_model = AveragingRegressor(models)\n",
    "stack_model = make_pipeline(\n",
    "    *PIPELINE_STEPS,\n",
    "    StackingRegressor(regressors=[estimator for _, estimator in ESTIMATORS],\n",
    "                      meta_regressor=XGBRegressor())\n",
    ")"
   ]
  },
  {
   "cell_type": "code",
   "execution_count": 5,
   "metadata": {},
   "outputs": [
    {
     "name": "stderr",
     "output_type": "stream",
     "text": [
      "/usr/local/lib/python3.6/site-packages/rpy2/rinterface/__init__.py:146: RRuntimeWarning: Returning data from 1965-01-01 to 2016-12-31\n",
      "\n",
      "  warnings.warn(x, RRuntimeWarning)\n",
      "/usr/local/lib/python3.6/site-packages/rpy2/rinterface/__init__.py:146: RRuntimeWarning: Finished getting afltables data\n",
      "\n",
      "  warnings.warn(x, RRuntimeWarning)\n",
      "/usr/local/lib/python3.6/site-packages/rpy2/robjects/pandas2ri.py:191: FutureWarning: from_items is deprecated. Please use DataFrame.from_dict(dict(items), ...) instead. DataFrame.from_dict(OrderedDict(items)) may be used to preserve the key order.\n",
      "  res = PandasDataFrame.from_items(items)\n"
     ]
    }
   ],
   "source": [
    "data = AllModelData(train_years=(None, 2015), test_years=(2016, 2016))"
   ]
  },
  {
   "cell_type": "markdown",
   "metadata": {},
   "source": [
    "### All data with XGB"
   ]
  },
  {
   "cell_type": "code",
   "execution_count": 6,
   "metadata": {},
   "outputs": [],
   "source": [
    "all_params = {\n",
    "    'pipeline__xgbregressor__booster': ['gbtree', 'gblinear', 'dart'],\n",
    "    'pipeline__xgbregressor__colsample_bylevel': stats.uniform(0.8, 0.2),\n",
    "    'pipeline__xgbregressor__colsample_bytree': stats.uniform(0.8, 0.2),\n",
    "    'pipeline__xgbregressor__learning_rate': stats.uniform(0.075, 0.05),\n",
    "    'pipeline__xgbregressor__max_depth': stats.randint(2, 10),\n",
    "    'pipeline__xgbregressor__n_estimators': stats.randint(75, 150),\n",
    "    'pipeline__xgbregressor__reg_alpha': stats.uniform(0.0, 0.2),\n",
    "    'pipeline__xgbregressor__reg_lambda': stats.uniform(0.75, 0.5),\n",
    "    'pipeline__xgbregressor__subsample': stats.uniform(0.8, 0.2),\n",
    "}\n",
    "\n",
    "all_cv = RandomizedSearchCV(all_model, all_params, scoring='neg_mean_absolute_error', n_jobs=-1, cv=CV,\n",
    "                            n_iter=N_ITER, random_state=SEED)"
   ]
  },
  {
   "cell_type": "code",
   "execution_count": 7,
   "metadata": {},
   "outputs": [
    {
     "data": {
      "text/plain": [
       "RandomizedSearchCV(cv=5, error_score='raise-deprecating',\n",
       "          estimator=AllModel(name='AllModel',\n",
       "     pipeline=Pipeline(memory=None,\n",
       "     steps=[('columntransformer', ColumnTransformer(n_jobs=None,\n",
       "         remainder=StandardScaler(copy=True, with_mean=True, with_std=True),\n",
       "         sparse_threshold=0.3, transformer_weights=None,\n",
       "         transformers=[('onehotencoder', OneHotEncoder(categorical_features=None,\n",
       "       categories=[['Ade...\n",
       "       reg_alpha=0, reg_lambda=1, scale_pos_weight=1, seed=None,\n",
       "       silent=True, subsample=1))])),\n",
       "          fit_params=None, iid='warn', n_iter=5, n_jobs=-1,\n",
       "          param_distributions={'pipeline__xgbregressor__booster': ['gbtree', 'gblinear', 'dart'], 'pipeline__xgbregressor__colsample_bylevel': <scipy.stats._distn_infrastructure.rv_frozen object at 0x7f96d7f4ba58>, 'pipeline__xgbregressor__colsample_bytree': <scipy.stats._distn_infrastructure.rv_frozen object...e__xgbregressor__subsample': <scipy.stats._distn_infrastructure.rv_frozen object at 0x7f974973c898>},\n",
       "          pre_dispatch='2*n_jobs', random_state=42, refit=True,\n",
       "          return_train_score='warn', scoring='neg_mean_absolute_error',\n",
       "          verbose=0)"
      ]
     },
     "execution_count": 7,
     "metadata": {},
     "output_type": "execute_result"
    }
   ],
   "source": [
    "all_cv.fit(*data.train_data())"
   ]
  },
  {
   "cell_type": "code",
   "execution_count": 8,
   "metadata": {},
   "outputs": [
    {
     "data": {
      "text/plain": [
       "(-26.884101203982823,\n",
       " {'pipeline__xgbregressor__booster': 'dart',\n",
       "  'pipeline__xgbregressor__colsample_bylevel': 0.8041168988591605,\n",
       "  'pipeline__xgbregressor__colsample_bytree': 0.9939819704323989,\n",
       "  'pipeline__xgbregressor__learning_rate': 0.11662213204002109,\n",
       "  'pipeline__xgbregressor__max_depth': 7,\n",
       "  'pipeline__xgbregressor__n_estimators': 76,\n",
       "  'pipeline__xgbregressor__reg_alpha': 0.03636499344142013,\n",
       "  'pipeline__xgbregressor__reg_lambda': 0.8417022549267169,\n",
       "  'pipeline__xgbregressor__subsample': 0.8608484485919076})"
      ]
     },
     "execution_count": 8,
     "metadata": {},
     "output_type": "execute_result"
    }
   ],
   "source": [
    "all_cv.best_score_, all_cv.best_params_"
   ]
  },
  {
   "cell_type": "markdown",
   "metadata": {},
   "source": [
    "### Bagging with XGB"
   ]
  },
  {
   "cell_type": "code",
   "execution_count": 9,
   "metadata": {},
   "outputs": [],
   "source": [
    "bag_params = {\n",
    "    'n_estimators': stats.randint(5, 15),\n",
    "    'base_estimator__pipeline__xgbregressor__booster': ['gbtree', 'gblinear', 'dart'],\n",
    "    'base_estimator__pipeline__xgbregressor__colsample_bylevel': stats.uniform(0.8, 0.2),\n",
    "    'base_estimator__pipeline__xgbregressor__colsample_bytree': stats.uniform(0.8, 0.2),\n",
    "    'base_estimator__pipeline__xgbregressor__learning_rate': stats.uniform(0.075, 0.05),\n",
    "    'base_estimator__pipeline__xgbregressor__max_depth': stats.randint(2, 10),\n",
    "    'base_estimator__pipeline__xgbregressor__n_estimators': stats.randint(75, 150),\n",
    "    'base_estimator__pipeline__xgbregressor__reg_alpha': stats.uniform(0.0, 0.2),\n",
    "    'base_estimator__pipeline__xgbregressor__reg_lambda': stats.uniform(0.75, 0.5),\n",
    "    'base_estimator__pipeline__xgbregressor__subsample': stats.uniform(0.8, 0.2),\n",
    "}\n",
    "\n",
    "bag_cv = RandomizedSearchCV(bag_model, bag_params, scoring='neg_mean_absolute_error', n_jobs=-1, cv=CV,\n",
    "                            n_iter=N_ITER, random_state=SEED)"
   ]
  },
  {
   "cell_type": "code",
   "execution_count": 10,
   "metadata": {
    "scrolled": true
   },
   "outputs": [
    {
     "name": "stderr",
     "output_type": "stream",
     "text": [
      "/usr/local/lib/python3.6/site-packages/sklearn/externals/joblib/externals/loky/process_executor.py:706: UserWarning: A worker stopped while some jobs were given to the executor. This can be caused by a too short worker timeout or by a memory leak.\n",
      "  \"timeout or by a memory leak.\", UserWarning\n",
      "/usr/local/lib/python3.6/site-packages/sklearn/externals/joblib/externals/loky/process_executor.py:706: UserWarning: A worker stopped while some jobs were given to the executor. This can be caused by a too short worker timeout or by a memory leak.\n",
      "  \"timeout or by a memory leak.\", UserWarning\n",
      "/usr/local/lib/python3.6/site-packages/sklearn/externals/joblib/externals/loky/process_executor.py:706: UserWarning: A worker stopped while some jobs were given to the executor. This can be caused by a too short worker timeout or by a memory leak.\n",
      "  \"timeout or by a memory leak.\", UserWarning\n",
      "/usr/local/lib/python3.6/site-packages/sklearn/externals/joblib/externals/loky/process_executor.py:706: UserWarning: A worker stopped while some jobs were given to the executor. This can be caused by a too short worker timeout or by a memory leak.\n",
      "  \"timeout or by a memory leak.\", UserWarning\n",
      "/usr/local/lib/python3.6/site-packages/sklearn/externals/joblib/externals/loky/process_executor.py:706: UserWarning: A worker stopped while some jobs were given to the executor. This can be caused by a too short worker timeout or by a memory leak.\n",
      "  \"timeout or by a memory leak.\", UserWarning\n",
      "/usr/local/lib/python3.6/site-packages/sklearn/externals/joblib/externals/loky/process_executor.py:706: UserWarning: A worker stopped while some jobs were given to the executor. This can be caused by a too short worker timeout or by a memory leak.\n",
      "  \"timeout or by a memory leak.\", UserWarning\n",
      "/usr/local/lib/python3.6/site-packages/sklearn/externals/joblib/externals/loky/process_executor.py:706: UserWarning: A worker stopped while some jobs were given to the executor. This can be caused by a too short worker timeout or by a memory leak.\n",
      "  \"timeout or by a memory leak.\", UserWarning\n",
      "/usr/local/lib/python3.6/site-packages/sklearn/externals/joblib/externals/loky/process_executor.py:706: UserWarning: A worker stopped while some jobs were given to the executor. This can be caused by a too short worker timeout or by a memory leak.\n",
      "  \"timeout or by a memory leak.\", UserWarning\n"
     ]
    },
    {
     "data": {
      "text/plain": [
       "RandomizedSearchCV(cv=5, error_score='raise-deprecating',\n",
       "          estimator=BaggingRegressor(base_estimator=AllModel(name='AllModel',\n",
       "     pipeline=Pipeline(memory=None,\n",
       "     steps=[('columntransformer', ColumnTransformer(n_jobs=None,\n",
       "         remainder=StandardScaler(copy=True, with_mean=True, with_std=True),\n",
       "         sparse_threshold=0.3, transformer_weights=Non...stimators=10, n_jobs=None, oob_score=False,\n",
       "         random_state=None, verbose=0, warm_start=False),\n",
       "          fit_params=None, iid='warn', n_iter=5, n_jobs=-1,\n",
       "          param_distributions={'n_estimators': <scipy.stats._distn_infrastructure.rv_frozen object at 0x7f9703f2def0>, 'base_estimator__pipeline__xgbregressor__booster': ['gbtree', 'gblinear', 'dart'], 'base_estimator__pipeline__xgbregressor__colsample_bylevel': <scipy.stats._distn_infrastructure.rv_frozen ob...e__xgbregressor__subsample': <scipy.stats._distn_infrastructure.rv_frozen object at 0x7f9703ea1978>},\n",
       "          pre_dispatch='2*n_jobs', random_state=42, refit=True,\n",
       "          return_train_score='warn', scoring='neg_mean_absolute_error',\n",
       "          verbose=0)"
      ]
     },
     "execution_count": 10,
     "metadata": {},
     "output_type": "execute_result"
    }
   ],
   "source": [
    "bag_cv.fit(*data.train_data())"
   ]
  },
  {
   "cell_type": "code",
   "execution_count": 11,
   "metadata": {},
   "outputs": [
    {
     "data": {
      "text/plain": [
       "(-26.537917267275947,\n",
       " {'base_estimator__pipeline__xgbregressor__booster': 'gbtree',\n",
       "  'base_estimator__pipeline__xgbregressor__colsample_bylevel': 0.9049549320516779,\n",
       "  'base_estimator__pipeline__xgbregressor__colsample_bytree': 0.8799721943430512,\n",
       "  'base_estimator__pipeline__xgbregressor__learning_rate': 0.07733328316068076,\n",
       "  'base_estimator__pipeline__xgbregressor__max_depth': 5,\n",
       "  'base_estimator__pipeline__xgbregressor__n_estimators': 89,\n",
       "  'base_estimator__pipeline__xgbregressor__reg_alpha': 0.0912139968434072,\n",
       "  'base_estimator__pipeline__xgbregressor__reg_lambda': 1.142587980696507,\n",
       "  'base_estimator__pipeline__xgbregressor__subsample': 0.839934756431672,\n",
       "  'n_estimators': 11})"
      ]
     },
     "execution_count": 11,
     "metadata": {},
     "output_type": "execute_result"
    }
   ],
   "source": [
    "bag_cv.best_score_, bag_cv.best_params_"
   ]
  },
  {
   "cell_type": "markdown",
   "metadata": {},
   "source": [
    "### Stacked with XGB"
   ]
  },
  {
   "cell_type": "code",
   "execution_count": 12,
   "metadata": {},
   "outputs": [],
   "source": [
    "stack_params = {\n",
    "    'stackingregressor__ridge__alpha': stats.uniform(0.75, 0.5),\n",
    "    'stackingregressor__ridge__solver': ['auto', 'svd', 'cholesky', 'lsqr', 'sparse_cg', 'sag', 'saga'],\n",
    "    'stackingregressor__gradientboostingregressor__alpha': stats.uniform(0.7, 0.3),\n",
    "    'stackingregressor__gradientboostingregressor__learning_rate': stats.uniform(0.075, 0.05),\n",
    "    'stackingregressor__gradientboostingregressor__loss': ['ls', 'lad', 'huber', 'quantile'],\n",
    "    'stackingregressor__gradientboostingregressor__max_depth': stats.randint(2, 10),\n",
    "    'stackingregressor__gradientboostingregressor__max_features': stats.uniform(0.8, 0.2),\n",
    "    'stackingregressor__gradientboostingregressor__max_leaf_nodes': [None, 2, 4, 6, 8, 10],\n",
    "    'stackingregressor__gradientboostingregressor__min_samples_leaf': stats.randint(1, 5),\n",
    "    'stackingregressor__gradientboostingregressor__min_samples_split': stats.randint(2, 6),\n",
    "    'stackingregressor__gradientboostingregressor__n_estimators': stats.randint(75, 150),\n",
    "    'stackingregressor__gradientboostingregressor__subsample': stats.uniform(0.8, 0.2),\n",
    "    'stackingregressor__linearsvr__C': stats.uniform(0.75, 0.5),\n",
    "    'stackingregressor__linearsvr__loss': ['epsilon_insensitive', 'squared_epsilon_insensitive'],\n",
    "    'stackingregressor__xgbregressor__booster': ['gbtree', 'gblinear', 'dart'],\n",
    "    'stackingregressor__xgbregressor__colsample_bylevel': stats.uniform(0.8, 0.2),\n",
    "    'stackingregressor__xgbregressor__colsample_bytree': stats.uniform(0.8, 0.2),\n",
    "    'stackingregressor__xgbregressor__learning_rate': stats.uniform(0.075, 0.05),\n",
    "    'stackingregressor__xgbregressor__max_depth': stats.randint(2, 10),\n",
    "    'stackingregressor__xgbregressor__n_estimators': stats.randint(75, 150),\n",
    "    'stackingregressor__xgbregressor__reg_alpha': stats.uniform(0.0, 0.2),\n",
    "    'stackingregressor__xgbregressor__reg_lambda': stats.uniform(0.75, 0.5),\n",
    "    'stackingregressor__xgbregressor__subsample': stats.uniform(0.8, 0.2),\n",
    "}\n",
    "\n",
    "stack_cv = RandomizedSearchCV(stack_model, stack_params, scoring='neg_mean_absolute_error', n_jobs=-1,\n",
    "                              cv=CV, n_iter=N_ITER, random_state=SEED)"
   ]
  },
  {
   "cell_type": "code",
   "execution_count": 13,
   "metadata": {
    "scrolled": true
   },
   "outputs": [
    {
     "name": "stderr",
     "output_type": "stream",
     "text": [
      "/usr/local/lib/python3.6/site-packages/sklearn/svm/base.py:922: ConvergenceWarning: Liblinear failed to converge, increase the number of iterations.\n",
      "  \"the number of iterations.\", ConvergenceWarning)\n"
     ]
    },
    {
     "data": {
      "text/plain": [
       "RandomizedSearchCV(cv=5, error_score='raise-deprecating',\n",
       "          estimator=Pipeline(memory=None,\n",
       "     steps=[('columntransformer', ColumnTransformer(n_jobs=None,\n",
       "         remainder=StandardScaler(copy=True, with_mean=True, with_std=True),\n",
       "         sparse_threshold=0.3, transformer_weights=None,\n",
       "         transformers=[('onehotencoder', OneHotEncoder(categorical_features=None,\n",
       "       categories=[['Ade...)],\n",
       "         store_train_meta_features=False, use_features_in_secondary=False,\n",
       "         verbose=0))]),\n",
       "          fit_params=None, iid='warn', n_iter=5, n_jobs=-1,\n",
       "          param_distributions={'stackingregressor__ridge__alpha': <scipy.stats._distn_infrastructure.rv_frozen object at 0x7f9703ec6b70>, 'stackingregressor__ridge__solver': ['auto', 'svd', 'cholesky', 'lsqr', 'sparse_cg', 'sag', 'saga'], 'stackingregressor__gradientboostingregressor__alpha': <scipy.stats._di...r__xgbregressor__subsample': <scipy.stats._distn_infrastructure.rv_frozen object at 0x7f9703ed5978>},\n",
       "          pre_dispatch='2*n_jobs', random_state=42, refit=True,\n",
       "          return_train_score='warn', scoring='neg_mean_absolute_error',\n",
       "          verbose=0)"
      ]
     },
     "execution_count": 13,
     "metadata": {},
     "output_type": "execute_result"
    }
   ],
   "source": [
    "stack_cv.fit(*data.train_data())"
   ]
  },
  {
   "cell_type": "code",
   "execution_count": 14,
   "metadata": {},
   "outputs": [
    {
     "data": {
      "text/plain": [
       "(-26.7260094641951,\n",
       " {'stackingregressor__gradientboostingregressor__alpha': 0.7913841307520112,\n",
       "  'stackingregressor__gradientboostingregressor__learning_rate': 0.07988360570031919,\n",
       "  'stackingregressor__gradientboostingregressor__loss': 'quantile',\n",
       "  'stackingregressor__gradientboostingregressor__max_depth': 5,\n",
       "  'stackingregressor__gradientboostingregressor__max_features': 0.8880304987479203,\n",
       "  'stackingregressor__gradientboostingregressor__max_leaf_nodes': 6,\n",
       "  'stackingregressor__gradientboostingregressor__min_samples_leaf': 1,\n",
       "  'stackingregressor__gradientboostingregressor__min_samples_split': 5,\n",
       "  'stackingregressor__gradientboostingregressor__n_estimators': 121,\n",
       "  'stackingregressor__gradientboostingregressor__subsample': 0.8346729307015545,\n",
       "  'stackingregressor__linearsvr__C': 0.9455303037866204,\n",
       "  'stackingregressor__linearsvr__loss': 'squared_epsilon_insensitive',\n",
       "  'stackingregressor__ridge__alpha': 1.081261142176991,\n",
       "  'stackingregressor__ridge__solver': 'svd',\n",
       "  'stackingregressor__xgbregressor__booster': 'gblinear',\n",
       "  'stackingregressor__xgbregressor__colsample_bylevel': 0.9040136042355622,\n",
       "  'stackingregressor__xgbregressor__colsample_bytree': 0.909342055868656,\n",
       "  'stackingregressor__xgbregressor__learning_rate': 0.08424272277627635,\n",
       "  'stackingregressor__xgbregressor__max_depth': 8,\n",
       "  'stackingregressor__xgbregressor__n_estimators': 92,\n",
       "  'stackingregressor__xgbregressor__reg_alpha': 0.15502656467222292,\n",
       "  'stackingregressor__xgbregressor__reg_lambda': 1.2197494707820946,\n",
       "  'stackingregressor__xgbregressor__subsample': 0.9789654700855298})"
      ]
     },
     "execution_count": 14,
     "metadata": {},
     "output_type": "execute_result"
    }
   ],
   "source": [
    "stack_cv.best_score_, stack_cv.best_params_"
   ]
  },
  {
   "cell_type": "markdown",
   "metadata": {},
   "source": [
    "### Averaging estimates"
   ]
  },
  {
   "cell_type": "code",
   "execution_count": 15,
   "metadata": {},
   "outputs": [],
   "source": [
    "avg_params = {\n",
    "    'weights': [stats.uniform(0.0, 1.0).rvs(size=4) for _ in range(N_ITER)],\n",
    "    'ridge__pipeline__ridge__alpha': stats.uniform(0.75, 0.5),\n",
    "    'ridge__pipeline__ridge__solver': ['auto', 'svd', 'cholesky', 'lsqr', 'sparse_cg', 'sag', 'saga'],\n",
    "    'gradientboostingregressor__pipeline__gradientboostingregressor__alpha': stats.uniform(0.7, 0.3),\n",
    "    'gradientboostingregressor__pipeline__gradientboostingregressor__learning_rate': stats.uniform(0.075, 0.05),\n",
    "    'gradientboostingregressor__pipeline__gradientboostingregressor__loss': ['ls', 'lad', 'huber', 'quantile'],\n",
    "    'gradientboostingregressor__pipeline__gradientboostingregressor__max_depth': stats.randint(2, 10),\n",
    "    'gradientboostingregressor__pipeline__gradientboostingregressor__max_features': stats.uniform(0.8, 0.2),\n",
    "    'gradientboostingregressor__pipeline__gradientboostingregressor__max_leaf_nodes': [None, 2, 4, 6, 8, 10],\n",
    "    'gradientboostingregressor__pipeline__gradientboostingregressor__min_samples_leaf': stats.randint(1, 5),\n",
    "    'gradientboostingregressor__pipeline__gradientboostingregressor__min_samples_split': stats.randint(2, 6),\n",
    "    'gradientboostingregressor__pipeline__gradientboostingregressor__n_estimators': stats.randint(75, 150),\n",
    "    'gradientboostingregressor__pipeline__gradientboostingregressor__subsample': stats.uniform(0.8, 0.2),\n",
    "    'linearsvr__pipeline__linearsvr__C': stats.uniform(0.75, 0.5),\n",
    "    'linearsvr__pipeline__linearsvr__loss': ['epsilon_insensitive', 'squared_epsilon_insensitive'],\n",
    "    'xgbregressor__pipeline__xgbregressor__booster': ['gbtree', 'gblinear', 'dart'],\n",
    "    'xgbregressor__pipeline__xgbregressor__colsample_bylevel': stats.uniform(0.8, 0.2),\n",
    "    'xgbregressor__pipeline__xgbregressor__colsample_bytree': stats.uniform(0.8, 0.2),\n",
    "    'xgbregressor__pipeline__xgbregressor__learning_rate': stats.uniform(0.075, 0.05),\n",
    "    'xgbregressor__pipeline__xgbregressor__max_depth': stats.randint(2, 10),\n",
    "    'xgbregressor__pipeline__xgbregressor__n_estimators': stats.randint(75, 150),\n",
    "    'xgbregressor__pipeline__xgbregressor__reg_alpha': stats.uniform(0.0, 0.2),\n",
    "    'xgbregressor__pipeline__xgbregressor__reg_lambda': stats.uniform(0.75, 0.5),\n",
    "    'xgbregressor__pipeline__xgbregressor__subsample': stats.uniform(0.8, 0.2),\n",
    "}\n",
    "\n",
    "avg_cv = RandomizedSearchCV(avg_model, avg_params, scoring='neg_mean_absolute_error', n_jobs=-1, cv=CV,\n",
    "                            n_iter=N_ITER, random_state=SEED)"
   ]
  },
  {
   "cell_type": "code",
   "execution_count": 16,
   "metadata": {},
   "outputs": [
    {
     "name": "stderr",
     "output_type": "stream",
     "text": [
      "/usr/local/lib/python3.6/site-packages/sklearn/svm/base.py:922: ConvergenceWarning: Liblinear failed to converge, increase the number of iterations.\n",
      "  \"the number of iterations.\", ConvergenceWarning)\n"
     ]
    },
    {
     "data": {
      "text/plain": [
       "RandomizedSearchCV(cv=5, error_score='raise-deprecating',\n",
       "          estimator=AveragingRegressor(estimators=[('ridge', AllModel(name='ridge',\n",
       "     pipeline=Pipeline(memory=None,\n",
       "     steps=[('columntransformer', ColumnTransformer(n_jobs=None,\n",
       "         remainder=StandardScaler(copy=True, with_mean=True, with_std=True),\n",
       "         sparse_threshold=0.3, transformer_weights=None,\n",
       "         transformer...    reg_alpha=0, reg_lambda=1, scale_pos_weight=1, seed=None,\n",
       "       silent=True, subsample=1))])))],\n",
       "          weights=None),\n",
       "          fit_params=None, iid='warn', n_iter=5, n_jobs=-1,\n",
       "          param_distributions={'weights': [array([0.80156, 0.98847, 0.14611, 0.38212]), array([0.1552 , 0.71753, 0.87182, 0.8221 ]), array([0.13409, 0.62442, 0.55084, 0.56705]), array([0.00071, 0.37803, 0.23302, 0.01172]), array([0.08886, 0.22189, 0.28638, 0.44077])], 'ridge__pipeline__ridge__alpha': <scipy.s...e__xgbregressor__subsample': <scipy.stats._distn_infrastructure.rv_frozen object at 0x7f96e8fc8978>},\n",
       "          pre_dispatch='2*n_jobs', random_state=42, refit=True,\n",
       "          return_train_score='warn', scoring='neg_mean_absolute_error',\n",
       "          verbose=0)"
      ]
     },
     "execution_count": 16,
     "metadata": {},
     "output_type": "execute_result"
    }
   ],
   "source": [
    "avg_cv.fit(*data.train_data())"
   ]
  },
  {
   "cell_type": "code",
   "execution_count": 17,
   "metadata": {},
   "outputs": [
    {
     "data": {
      "text/plain": [
       "(-26.529556333472932,\n",
       " {'gradientboostingregressor__pipeline__gradientboostingregressor__alpha': 0.7069187275124247,\n",
       "  'gradientboostingregressor__pipeline__gradientboostingregressor__learning_rate': 0.10123873301291945,\n",
       "  'gradientboostingregressor__pipeline__gradientboostingregressor__loss': 'huber',\n",
       "  'gradientboostingregressor__pipeline__gradientboostingregressor__max_depth': 3,\n",
       "  'gradientboostingregressor__pipeline__gradientboostingregressor__max_features': 0.8093331326427231,\n",
       "  'gradientboostingregressor__pipeline__gradientboostingregressor__max_leaf_nodes': 6,\n",
       "  'gradientboostingregressor__pipeline__gradientboostingregressor__min_samples_leaf': 4,\n",
       "  'gradientboostingregressor__pipeline__gradientboostingregressor__min_samples_split': 4,\n",
       "  'gradientboostingregressor__pipeline__gradientboostingregressor__n_estimators': 136,\n",
       "  'gradientboostingregressor__pipeline__gradientboostingregressor__subsample': 0.8181212869065642,\n",
       "  'linearsvr__pipeline__linearsvr__C': 1.0591930046665436,\n",
       "  'linearsvr__pipeline__linearsvr__loss': 'squared_epsilon_insensitive',\n",
       "  'ridge__pipeline__ridge__alpha': 1.0071172192068059,\n",
       "  'ridge__pipeline__ridge__solver': 'auto',\n",
       "  'weights': array([0.13409051, 0.62441979, 0.550842  , 0.56705439]),\n",
       "  'xgbregressor__pipeline__xgbregressor__booster': 'gbtree',\n",
       "  'xgbregressor__pipeline__xgbregressor__colsample_bylevel': 0.9215089703802877,\n",
       "  'xgbregressor__pipeline__xgbregressor__colsample_bytree': 0.8341048247374584,\n",
       "  'xgbregressor__pipeline__xgbregressor__learning_rate': 0.07825257964926398,\n",
       "  'xgbregressor__pipeline__xgbregressor__max_depth': 5,\n",
       "  'xgbregressor__pipeline__xgbregressor__n_estimators': 134,\n",
       "  'xgbregressor__pipeline__xgbregressor__reg_alpha': 0.11265764356910786,\n",
       "  'xgbregressor__pipeline__xgbregressor__reg_lambda': 0.942708251269958,\n",
       "  'xgbregressor__pipeline__xgbregressor__subsample': 0.8031932504440429})"
      ]
     },
     "execution_count": 17,
     "metadata": {},
     "output_type": "execute_result"
    }
   ],
   "source": [
    "avg_cv.best_score_, avg_cv.best_params_"
   ]
  },
  {
   "cell_type": "code",
   "execution_count": 18,
   "metadata": {
    "scrolled": true
   },
   "outputs": [
    {
     "data": {
      "text/plain": [
       "(-28.08692505531877, -28.04701853642751)"
      ]
     },
     "execution_count": 18,
     "metadata": {},
     "output_type": "execute_result"
    }
   ],
   "source": [
    "bag_cv.score(*data.test_data()), avg_cv.score(*data.test_data())"
   ]
  },
  {
   "cell_type": "markdown",
   "metadata": {},
   "source": [
    "### Bagging XGB is about the same as averaging a few different models\n",
    "They have almost identical CV scores, and averaging does slightly better on the validation set, but it's close enough, and the validation set is small enough, that it's basically a wash."
   ]
  },
  {
   "cell_type": "markdown",
   "metadata": {},
   "source": [
    "## F-test for statistical significance of performance differences"
   ]
  },
  {
   "cell_type": "code",
   "execution_count": 35,
   "metadata": {},
   "outputs": [
    {
     "data": {
      "text/plain": [
       "AveragingRegressor(estimators=[('ridge', AllModel(name='ridge',\n",
       "     pipeline=Pipeline(memory=None,\n",
       "     steps=[('columntransformer', ColumnTransformer(n_jobs=None,\n",
       "         remainder=StandardScaler(copy=True, with_mean=True, with_std=True),\n",
       "         sparse_threshold=0.3, transformer_weights=None,\n",
       "         transformer...69958,\n",
       "       scale_pos_weight=1, seed=None, silent=True,\n",
       "       subsample=0.8031932504440429))])))],\n",
       "          weights=array([0.13409, 0.62442, 0.55084, 0.56705]))"
      ]
     },
     "execution_count": 35,
     "metadata": {},
     "output_type": "execute_result"
    }
   ],
   "source": [
    "X_train, y_train = data.train_data()\n",
    "\n",
    "all_model.set_params(**all_cv.best_params_)\n",
    "bag_model.set_params(**bag_cv.best_params_)\n",
    "avg_model.set_params(**avg_cv.best_params_)"
   ]
  },
  {
   "cell_type": "code",
   "execution_count": 37,
   "metadata": {
    "scrolled": true
   },
   "outputs": [
    {
     "name": "stderr",
     "output_type": "stream",
     "text": [
      "/usr/local/lib/python3.6/site-packages/sklearn/svm/base.py:922: ConvergenceWarning: Liblinear failed to converge, increase the number of iterations.\n",
      "  \"the number of iterations.\", ConvergenceWarning)\n",
      "/usr/local/lib/python3.6/site-packages/sklearn/svm/base.py:922: ConvergenceWarning: Liblinear failed to converge, increase the number of iterations.\n",
      "  \"the number of iterations.\", ConvergenceWarning)\n",
      "/usr/local/lib/python3.6/site-packages/sklearn/svm/base.py:922: ConvergenceWarning: Liblinear failed to converge, increase the number of iterations.\n",
      "  \"the number of iterations.\", ConvergenceWarning)\n",
      "/usr/local/lib/python3.6/site-packages/sklearn/svm/base.py:922: ConvergenceWarning: Liblinear failed to converge, increase the number of iterations.\n",
      "  \"the number of iterations.\", ConvergenceWarning)\n",
      "/usr/local/lib/python3.6/site-packages/sklearn/svm/base.py:922: ConvergenceWarning: Liblinear failed to converge, increase the number of iterations.\n",
      "  \"the number of iterations.\", ConvergenceWarning)\n",
      "/usr/local/lib/python3.6/site-packages/sklearn/svm/base.py:922: ConvergenceWarning: Liblinear failed to converge, increase the number of iterations.\n",
      "  \"the number of iterations.\", ConvergenceWarning)\n",
      "/usr/local/lib/python3.6/site-packages/sklearn/svm/base.py:922: ConvergenceWarning: Liblinear failed to converge, increase the number of iterations.\n",
      "  \"the number of iterations.\", ConvergenceWarning)\n",
      "/usr/local/lib/python3.6/site-packages/sklearn/svm/base.py:922: ConvergenceWarning: Liblinear failed to converge, increase the number of iterations.\n",
      "  \"the number of iterations.\", ConvergenceWarning)\n",
      "/usr/local/lib/python3.6/site-packages/sklearn/svm/base.py:922: ConvergenceWarning: Liblinear failed to converge, increase the number of iterations.\n",
      "  \"the number of iterations.\", ConvergenceWarning)\n",
      "/usr/local/lib/python3.6/site-packages/sklearn/svm/base.py:922: ConvergenceWarning: Liblinear failed to converge, increase the number of iterations.\n",
      "  \"the number of iterations.\", ConvergenceWarning)\n"
     ]
    },
    {
     "name": "stdout",
     "output_type": "stream",
     "text": [
      "F score: 0.9161549759704658\n",
      "p score: 0.5781767029027339\n"
     ]
    }
   ],
   "source": [
    "f1, p1 = combined_ftest_5x2cv(estimator1=avg_model,\n",
    "                            estimator2=bag_model,\n",
    "                            X=X_train, y=y_train,\n",
    "                            scoring='neg_mean_absolute_error',\n",
    "                            random_seed=42)\n",
    "\n",
    "print('F score:', f1)\n",
    "print('p score:', p1)"
   ]
  },
  {
   "cell_type": "code",
   "execution_count": 38,
   "metadata": {},
   "outputs": [
    {
     "name": "stdout",
     "output_type": "stream",
     "text": [
      "F score: 31.809140803369125\n",
      "p score: 0.0006686152499020726\n"
     ]
    }
   ],
   "source": [
    "f2, p2 = combined_ftest_5x2cv(estimator1=all_model,\n",
    "                            estimator2=bag_model,\n",
    "                            X=X_train, y=y_train,\n",
    "                            scoring='neg_mean_absolute_error',\n",
    "                            random_seed=42)\n",
    "\n",
    "print('F score:', f2)\n",
    "print('p score:', p2)"
   ]
  },
  {
   "cell_type": "markdown",
   "metadata": {},
   "source": [
    "### There's basically no statistical difference between averaging and bagging\n",
    "But bagging is definitely better than the simpler all-data model."
   ]
  },
  {
   "cell_type": "markdown",
   "metadata": {},
   "source": [
    "## Yearly comparison of bagging and averaging"
   ]
  },
  {
   "cell_type": "code",
   "execution_count": 39,
   "metadata": {
    "scrolled": true
   },
   "outputs": [
    {
     "name": "stderr",
     "output_type": "stream",
     "text": [
      "/usr/local/lib/python3.6/site-packages/sklearn/svm/base.py:922: ConvergenceWarning: Liblinear failed to converge, increase the number of iterations.\n",
      "  \"the number of iterations.\", ConvergenceWarning)\n",
      "/usr/local/lib/python3.6/site-packages/sklearn/svm/base.py:922: ConvergenceWarning: Liblinear failed to converge, increase the number of iterations.\n",
      "  \"the number of iterations.\", ConvergenceWarning)\n",
      "/usr/local/lib/python3.6/site-packages/sklearn/svm/base.py:922: ConvergenceWarning: Liblinear failed to converge, increase the number of iterations.\n",
      "  \"the number of iterations.\", ConvergenceWarning)\n",
      "/usr/local/lib/python3.6/site-packages/sklearn/svm/base.py:922: ConvergenceWarning: Liblinear failed to converge, increase the number of iterations.\n",
      "  \"the number of iterations.\", ConvergenceWarning)\n",
      "/usr/local/lib/python3.6/site-packages/sklearn/svm/base.py:922: ConvergenceWarning: Liblinear failed to converge, increase the number of iterations.\n",
      "  \"the number of iterations.\", ConvergenceWarning)\n",
      "/usr/local/lib/python3.6/site-packages/sklearn/svm/base.py:922: ConvergenceWarning: Liblinear failed to converge, increase the number of iterations.\n",
      "  \"the number of iterations.\", ConvergenceWarning)\n"
     ]
    },
    {
     "data": {
      "text/html": [
       "<div>\n",
       "<style scoped>\n",
       "    .dataframe tbody tr th:only-of-type {\n",
       "        vertical-align: middle;\n",
       "    }\n",
       "\n",
       "    .dataframe tbody tr th {\n",
       "        vertical-align: top;\n",
       "    }\n",
       "\n",
       "    .dataframe thead th {\n",
       "        text-align: right;\n",
       "    }\n",
       "</style>\n",
       "<table border=\"1\" class=\"dataframe\">\n",
       "  <thead>\n",
       "    <tr style=\"text-align: right;\">\n",
       "      <th></th>\n",
       "      <th>accuracy</th>\n",
       "      <th>error</th>\n",
       "      <th>model</th>\n",
       "      <th>year</th>\n",
       "    </tr>\n",
       "  </thead>\n",
       "  <tbody>\n",
       "    <tr>\n",
       "      <th>0</th>\n",
       "      <td>0.762755</td>\n",
       "      <td>30.032261</td>\n",
       "      <td>average</td>\n",
       "      <td>2011</td>\n",
       "    </tr>\n",
       "    <tr>\n",
       "      <th>1</th>\n",
       "      <td>0.747449</td>\n",
       "      <td>30.167175</td>\n",
       "      <td>bag</td>\n",
       "      <td>2011</td>\n",
       "    </tr>\n",
       "    <tr>\n",
       "      <th>2</th>\n",
       "      <td>0.768116</td>\n",
       "      <td>27.687219</td>\n",
       "      <td>average</td>\n",
       "      <td>2012</td>\n",
       "    </tr>\n",
       "    <tr>\n",
       "      <th>3</th>\n",
       "      <td>0.772947</td>\n",
       "      <td>28.059670</td>\n",
       "      <td>bag</td>\n",
       "      <td>2012</td>\n",
       "    </tr>\n",
       "    <tr>\n",
       "      <th>4</th>\n",
       "      <td>0.756039</td>\n",
       "      <td>27.021007</td>\n",
       "      <td>average</td>\n",
       "      <td>2013</td>\n",
       "    </tr>\n",
       "    <tr>\n",
       "      <th>5</th>\n",
       "      <td>0.741546</td>\n",
       "      <td>26.715181</td>\n",
       "      <td>bag</td>\n",
       "      <td>2013</td>\n",
       "    </tr>\n",
       "    <tr>\n",
       "      <th>6</th>\n",
       "      <td>0.719807</td>\n",
       "      <td>29.063796</td>\n",
       "      <td>average</td>\n",
       "      <td>2014</td>\n",
       "    </tr>\n",
       "    <tr>\n",
       "      <th>7</th>\n",
       "      <td>0.727053</td>\n",
       "      <td>29.041634</td>\n",
       "      <td>bag</td>\n",
       "      <td>2014</td>\n",
       "    </tr>\n",
       "    <tr>\n",
       "      <th>8</th>\n",
       "      <td>0.694175</td>\n",
       "      <td>30.176720</td>\n",
       "      <td>average</td>\n",
       "      <td>2015</td>\n",
       "    </tr>\n",
       "    <tr>\n",
       "      <th>9</th>\n",
       "      <td>0.708738</td>\n",
       "      <td>30.162746</td>\n",
       "      <td>bag</td>\n",
       "      <td>2015</td>\n",
       "    </tr>\n",
       "    <tr>\n",
       "      <th>10</th>\n",
       "      <td>0.734300</td>\n",
       "      <td>28.071448</td>\n",
       "      <td>average</td>\n",
       "      <td>2016</td>\n",
       "    </tr>\n",
       "    <tr>\n",
       "      <th>11</th>\n",
       "      <td>0.739130</td>\n",
       "      <td>28.178799</td>\n",
       "      <td>bag</td>\n",
       "      <td>2016</td>\n",
       "    </tr>\n",
       "  </tbody>\n",
       "</table>\n",
       "</div>"
      ],
      "text/plain": [
       "    accuracy      error    model  year\n",
       "0   0.762755  30.032261  average  2011\n",
       "1   0.747449  30.167175      bag  2011\n",
       "2   0.768116  27.687219  average  2012\n",
       "3   0.772947  28.059670      bag  2012\n",
       "4   0.756039  27.021007  average  2013\n",
       "5   0.741546  26.715181      bag  2013\n",
       "6   0.719807  29.063796  average  2014\n",
       "7   0.727053  29.041634      bag  2014\n",
       "8   0.694175  30.176720  average  2015\n",
       "9   0.708738  30.162746      bag  2015\n",
       "10  0.734300  28.071448  average  2016\n",
       "11  0.739130  28.178799      bag  2016"
      ]
     },
     "execution_count": 39,
     "metadata": {},
     "output_type": "execute_result"
    }
   ],
   "source": [
    "avg_model.set_params(**avg_cv.best_params_)\n",
    "bag_model.set_params(**bag_cv.best_params_)\n",
    "data.train_years = (None, 2016)\n",
    "\n",
    "YEAR_ESTIMATORS = [\n",
    "    ('average', avg_model, {}),\n",
    "    ('bag', bag_model, {})\n",
    "]\n",
    "\n",
    "year_scores = yearly_performance_scores(YEAR_ESTIMATORS, *data.train_data())\n",
    "year_scores"
   ]
  },
  {
   "cell_type": "code",
   "execution_count": 40,
   "metadata": {
    "scrolled": false
   },
   "outputs": [
    {
     "data": {
      "image/png": "[encoded data removed]",
      "text/plain": [
       "<Figure size 1080x648 with 1 Axes>"
      ]
     },
     "metadata": {
      "needs_background": "light"
     },
     "output_type": "display_data"
    },
    {
     "data": {
      "image/png": "[encoded data removed]",
      "text/plain": [
       "<Figure size 1080x576 with 1 Axes>"
      ]
     },
     "metadata": {
      "needs_background": "light"
     },
     "output_type": "display_data"
    }
   ],
   "source": [
    "graph_yearly_model_performance(year_scores)"
   ]
  },
  {
   "cell_type": "code",
   "execution_count": 41,
   "metadata": {},
   "outputs": [
    {
     "data": {
      "text/html": [
       "<div>\n",
       "<style scoped>\n",
       "    .dataframe tbody tr th:only-of-type {\n",
       "        vertical-align: middle;\n",
       "    }\n",
       "\n",
       "    .dataframe tbody tr th {\n",
       "        vertical-align: top;\n",
       "    }\n",
       "\n",
       "    .dataframe thead th {\n",
       "        text-align: right;\n",
       "    }\n",
       "</style>\n",
       "<table border=\"1\" class=\"dataframe\">\n",
       "  <thead>\n",
       "    <tr style=\"text-align: right;\">\n",
       "      <th></th>\n",
       "      <th>accuracy</th>\n",
       "      <th>error</th>\n",
       "      <th>year</th>\n",
       "    </tr>\n",
       "    <tr>\n",
       "      <th>model</th>\n",
       "      <th></th>\n",
       "      <th></th>\n",
       "      <th></th>\n",
       "    </tr>\n",
       "  </thead>\n",
       "  <tbody>\n",
       "    <tr>\n",
       "      <th>average</th>\n",
       "      <td>0.739198</td>\n",
       "      <td>28.675408</td>\n",
       "      <td>2013.5</td>\n",
       "    </tr>\n",
       "    <tr>\n",
       "      <th>bag</th>\n",
       "      <td>0.739477</td>\n",
       "      <td>28.720868</td>\n",
       "      <td>2013.5</td>\n",
       "    </tr>\n",
       "  </tbody>\n",
       "</table>\n",
       "</div>"
      ],
      "text/plain": [
       "         accuracy      error    year\n",
       "model                               \n",
       "average  0.739198  28.675408  2013.5\n",
       "bag      0.739477  28.720868  2013.5"
      ]
     },
     "execution_count": 41,
     "metadata": {},
     "output_type": "execute_result"
    }
   ],
   "source": [
    "year_scores.groupby('model').mean()"
   ]
  },
  {
   "cell_type": "markdown",
   "metadata": {},
   "source": [
    "### Averaging and bagging are about the same on a yearly basis as well\n",
    "Bagging has a slightly higher accuracy, but a slightly higher error. Averaging \"wins\" 4 years on error, but bagging \"wins\" 4 years on accuracy. Given that bagging makes for a simpler model (fewer params, and don't have to worry about getting the weights right), I'll stick with that for now. I'll compare the two model structures more thoroughly after doing some more feature engineering."
   ]
  },
  {
   "cell_type": "code",
   "execution_count": null,
   "metadata": {},
   "outputs": [],
   "source": []
  }
 ],
 "metadata": {
  "kernelspec": {
   "display_name": "Python 3",
   "language": "python",
   "name": "python3"
  },
  "language_info": {
   "codemirror_mode": {
    "name": "ipython",
    "version": 3
   },
   "file_extension": ".py",
   "mimetype": "text/x-python",
   "name": "python",
   "nbconvert_exporter": "python",
   "pygments_lexer": "ipython3",
   "version": "3.6.7"
  }
 },
 "nbformat": 4,
 "nbformat_minor": 2
}
