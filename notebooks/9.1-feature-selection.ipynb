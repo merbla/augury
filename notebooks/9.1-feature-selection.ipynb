{
 "cells": [
  {
   "cell_type": "code",
   "execution_count": 1,
   "metadata": {},
   "outputs": [],
   "source": [
    "import os\n",
    "import sys\n",
    "\n",
    "import pandas as pd\n",
    "import numpy as np\n",
    "from scipy import stats\n",
    "from sklearn.model_selection import RandomizedSearchCV, cross_val_score\n",
    "from sklearn.pipeline import make_pipeline, make_union\n",
    "from sklearn.compose import ColumnTransformer\n",
    "from sklearn.preprocessing import PolynomialFeatures, OneHotEncoder\n",
    "from sklearn.base import clone\n",
    "from sklearn.decomposition import PCA\n",
    "from mlxtend.feature_selection import ColumnSelector\n",
    "\n",
    "PROJECT_PATH = os.path.abspath(os.path.join(os.getcwd(), '../'))\n",
    "\n",
    "if PROJECT_PATH not in sys.path:\n",
    "    sys.path.append(PROJECT_PATH)\n",
    "    \n",
    "from server.ml_models import EnsembleModel\n",
    "from server.ml_models.all_model import AllModelData\n",
    "from src.model.metrics import measure_estimators, yearly_performance_scores\n",
    "from src.model.charts import graph_cv_model_performance, graph_yearly_model_performance\n",
    "from server.ml_models.data_config import TEAM_NAMES, ROUND_TYPES\n",
    "\n",
    "np.random.seed(42)\n",
    "\n",
    "N_ITER = 5\n",
    "SCORING = 'neg_mean_absolute_error'\n",
    "CV = 5"
   ]
  },
  {
   "cell_type": "code",
   "execution_count": 2,
   "metadata": {},
   "outputs": [
    {
     "name": "stderr",
     "output_type": "stream",
     "text": [
      "/usr/local/lib/python3.6/site-packages/rpy2/rinterface/__init__.py:146: RRuntimeWarning: Returning data from 1965-01-01 to 2016-12-31\n",
      "\n",
      "  warnings.warn(x, RRuntimeWarning)\n",
      "/usr/local/lib/python3.6/site-packages/rpy2/rinterface/__init__.py:146: RRuntimeWarning: Finished getting afltables data\n",
      "\n",
      "  warnings.warn(x, RRuntimeWarning)\n",
      "/usr/local/lib/python3.6/site-packages/rpy2/robjects/pandas2ri.py:191: FutureWarning: from_items is deprecated. Please use DataFrame.from_dict(dict(items), ...) instead. DataFrame.from_dict(OrderedDict(items)) may be used to preserve the key order.\n",
      "  res = PandasDataFrame.from_items(items)\n"
     ]
    }
   ],
   "source": [
    "data = AllModelData(train_years=(None, 2015), test_years=(2016, 2016))"
   ]
  },
  {
   "cell_type": "markdown",
   "metadata": {},
   "source": [
    "### Baseline bagging model with XGB"
   ]
  },
  {
   "cell_type": "code",
   "execution_count": 3,
   "metadata": {
    "scrolled": true
   },
   "outputs": [
    {
     "data": {
      "text/plain": [
       "array([-26.16858251, -25.80469955, -27.1914056 , -26.46159619,\n",
       "       -27.06154325])"
      ]
     },
     "execution_count": 3,
     "metadata": {},
     "output_type": "execute_result"
    }
   ],
   "source": [
    "bag_model = EnsembleModel()\n",
    "bag_score = cross_val_score(bag_model, *data.train_data(), scoring=SCORING, cv=CV, n_jobs=-1)\n",
    "bag_score"
   ]
  },
  {
   "cell_type": "code",
   "execution_count": 4,
   "metadata": {},
   "outputs": [
    {
     "data": {
      "text/plain": [
       "-26.537565421469765"
      ]
     },
     "execution_count": 4,
     "metadata": {},
     "output_type": "execute_result"
    }
   ],
   "source": [
    "bag_score.mean()"
   ]
  },
  {
   "cell_type": "markdown",
   "metadata": {},
   "source": [
    "## Feature selection"
   ]
  },
  {
   "cell_type": "markdown",
   "metadata": {},
   "source": [
    "### Feature selection with correlation to labels"
   ]
  },
  {
   "cell_type": "code",
   "execution_count": 5,
   "metadata": {
    "scrolled": true
   },
   "outputs": [
    {
     "data": {
      "text/plain": [
       "margin                                             1.000000\n",
       "oppo_rolling_last_week_win_rate                    0.327654\n",
       "rolling_last_week_win_rate                         0.327282\n",
       "ladder_position                                    0.253778\n",
       "oppo_win_streak                                    0.217786\n",
       "win_streak                                         0.217642\n",
       "line_odds                                          0.216245\n",
       "oppo_line_odds                                     0.216245\n",
       "at_home                                            0.213125\n",
       "oppo_cum_win_points                                0.171706\n",
       "cum_win_points                                     0.170927\n",
       "oppo_last_week_result                              0.144011\n",
       "last_week_result                                   0.143821\n",
       "win_odds                                           0.126010\n",
       "oppo_win_odds                                      0.125942\n",
       "oppo_last_week_score                               0.108902\n",
       "last_week_score                                    0.108775\n",
       "oppo_last_week_goals                               0.101683\n",
       "last_week_goals                                    0.101553\n",
       "out_of_state                                       0.099081\n",
       "oppo_last_week_behinds                             0.089767\n",
       "last_week_behinds                                  0.089745\n",
       "oppo_travel_distance                               0.088944\n",
       "travel_distance                                    0.088877\n",
       "oppo_last_year_brownlow_votes                      0.074145\n",
       "last_year_brownlow_votes                           0.073976\n",
       "oppo_rolling_pred_win_rate                         0.064167\n",
       "rolling_pred_win_rate                              0.063789\n",
       "rolling_prev_match_goals                           0.046183\n",
       "oppo_rolling_prev_match_goals                      0.046181\n",
       "                                                     ...   \n",
       "rolling_prev_match_contested_marks                 0.015698\n",
       "oppo_rolling_prev_match_handballs                  0.015368\n",
       "rolling_prev_match_handballs                       0.015237\n",
       "oppo_rolling_prev_match_inside_50s                 0.014869\n",
       "rolling_prev_match_inside_50s                      0.014827\n",
       "rolling_prev_match_frees_against                   0.014646\n",
       "oppo_rolling_prev_match_frees_against              0.014581\n",
       "oppo_rolling_prev_match_tackles                    0.012113\n",
       "rolling_prev_match_tackles                         0.011947\n",
       "oppo_rolling_prev_match_uncontested_possessions    0.010389\n",
       "rolling_prev_match_uncontested_possessions         0.010290\n",
       "oppo_rolling_prev_match_contested_possessions      0.010118\n",
       "rolling_prev_match_contested_possessions           0.010054\n",
       "oppo_rolling_prev_match_clearances                 0.009817\n",
       "rolling_prev_match_clearances                      0.009792\n",
       "oppo_rolling_prev_match_one_percenters             0.007878\n",
       "rolling_prev_match_one_percenters                  0.007794\n",
       "cum_percent                                        0.007210\n",
       "oppo_rolling_prev_match_bounces                    0.005084\n",
       "rolling_prev_match_bounces                         0.004995\n",
       "oppo_rolling_prev_match_time_on_ground             0.003968\n",
       "rolling_prev_match_time_on_ground                  0.003865\n",
       "oppo_rolling_prev_match_clangers                   0.002612\n",
       "rolling_prev_match_clangers                        0.002558\n",
       "rolling_prev_match_frees_for                       0.002310\n",
       "oppo_rolling_prev_match_frees_for                  0.002240\n",
       "rolling_prev_match_rebounds                        0.000429\n",
       "oppo_rolling_prev_match_rebounds                   0.000395\n",
       "round_number                                       0.000316\n",
       "year                                               0.000009\n",
       "Name: margin, Length: 73, dtype: float64"
      ]
     },
     "execution_count": 5,
     "metadata": {},
     "output_type": "execute_result"
    }
   ],
   "source": [
    "X_train, y_train = data.train_data()\n",
    "X_train['margin'] = y_train\n",
    "\n",
    "X_train.corr()['margin'].abs().sort_values(ascending=False)"
   ]
  },
  {
   "cell_type": "code",
   "execution_count": 6,
   "metadata": {},
   "outputs": [],
   "source": [
    "from sklearn.base import TransformerMixin, BaseEstimator, clone\n",
    "\n",
    "\n",
    "class CorrelationChooser(TransformerMixin, BaseEstimator):\n",
    "    def __init__(self, response, cols_to_keep=[], threshold=None):\n",
    "        self.response = response\n",
    "        self.threshold = threshold\n",
    "        self.cols_to_keep = cols_to_keep\n",
    "        self._cols_to_keep = self.cols_to_keep\n",
    "\n",
    "    def transform(self, X):\n",
    "        return X[self._cols_to_keep]\n",
    "\n",
    "    def fit(self, X, *_):\n",
    "        df = pd.concat([X, self.response], axis=1).drop(self.cols_to_keep, axis=1)\n",
    "        self._cols_to_keep = df.columns[df.corr()[df.columns[-1]].abs() > self.threshold]\n",
    "        self._cols_to_keep = self.cols_to_keep + [c for c in self._cols_to_keep if c in X.columns]\n",
    "\n",
    "        return self\n",
    "\n",
    "_, y_train = data.train_data()\n",
    "bag_model2 = clone(bag_model)\n",
    "bag_model2.pipeline.steps = [\n",
    "    (\n",
    "        \"correlationchooser\",\n",
    "        CorrelationChooser(\n",
    "            y_train,\n",
    "            threshold=0.1,\n",
    "            cols_to_keep=[\"team\", \"oppo_team\", \"round_type\"],\n",
    "        ),\n",
    "    )\n",
    "] + bag_model2.pipeline.steps\n",
    "\n",
    "\n",
    "bag_params = {\n",
    "    'pipeline__baggingregressor__n_estimators': stats.randint(5, 15),\n",
    "    'pipeline__baggingregressor__base_estimator__booster': ['gbtree', 'gblinear', 'dart'],\n",
    "    'pipeline__baggingregressor__base_estimator__colsample_bylevel': stats.uniform(0.8, 0.2),\n",
    "    'pipeline__baggingregressor__base_estimator__colsample_bytree': stats.uniform(0.8, 0.2),\n",
    "    'pipeline__baggingregressor__base_estimator__learning_rate': stats.uniform(0.075, 0.05),\n",
    "    'pipeline__baggingregressor__base_estimator__max_depth': stats.randint(2, 10),\n",
    "    'pipeline__baggingregressor__base_estimator__n_estimators': stats.randint(75, 150),\n",
    "    'pipeline__baggingregressor__base_estimator__reg_alpha': stats.uniform(0.0, 0.2),\n",
    "    'pipeline__baggingregressor__base_estimator__reg_lambda': stats.uniform(0.75, 0.5),\n",
    "    'pipeline__baggingregressor__base_estimator__subsample': stats.uniform(0.8, 0.2),\n",
    "    'pipeline__correlationchooser__threshold': stats.uniform(0.0, 0.2)\n",
    "}\n",
    "\n",
    "bag_cv = RandomizedSearchCV(bag_model2, bag_params, scoring=SCORING, n_jobs=-1,\n",
    "                            cv=CV, n_iter=N_ITER)"
   ]
  },
  {
   "cell_type": "code",
   "execution_count": 8,
   "metadata": {},
   "outputs": [
    {
     "name": "stderr",
     "output_type": "stream",
     "text": [
      "/usr/local/lib/python3.6/site-packages/sklearn/externals/joblib/externals/loky/process_executor.py:706: UserWarning: A worker stopped while some jobs were given to the executor. This can be caused by a too short worker timeout or by a memory leak.\n",
      "  \"timeout or by a memory leak.\", UserWarning\n",
      "/usr/local/lib/python3.6/site-packages/sklearn/externals/joblib/externals/loky/process_executor.py:706: UserWarning: A worker stopped while some jobs were given to the executor. This can be caused by a too short worker timeout or by a memory leak.\n",
      "  \"timeout or by a memory leak.\", UserWarning\n"
     ]
    },
    {
     "data": {
      "text/plain": [
       "RandomizedSearchCV(cv=5, error_score='raise-deprecating',\n",
       "          estimator=EnsembleModel(name='EnsembleModel',\n",
       "       pipeline=Pipeline(memory=None,\n",
       "     steps=[('correlationchooser', CorrelationChooser(cols_to_keep=['team', 'oppo_team', 'round_type'],\n",
       "          response=Adelaide          1991  1.0      86\n",
       "                        2.0     -23\n",
       "                        3.0      24\n",
       "                        4.0     -45\n",
       "                        5.0     -65\n",
       "  ...imators=10, n_jobs=None, oob_score=False,\n",
       "         random_state=None, verbose=0, warm_start=False))])),\n",
       "          fit_params=None, iid='warn', n_iter=5, n_jobs=-1,\n",
       "          param_distributions={'pipeline__baggingregressor__n_estimators': <scipy.stats._distn_infrastructure.rv_frozen object at 0x7fab77cb0400>, 'pipeline__baggingregressor__base_estimator__booster': ['gbtree', 'gblinear', 'dart'], 'pipeline__baggingregressor__base_estimator__colsample_bylevel': <scipy.stat...relationchooser__threshold': <scipy.stats._distn_infrastructure.rv_frozen object at 0x7faba392ba20>},\n",
       "          pre_dispatch='2*n_jobs', random_state=None, refit=True,\n",
       "          return_train_score='warn', scoring='neg_mean_absolute_error',\n",
       "          verbose=0)"
      ]
     },
     "execution_count": 8,
     "metadata": {},
     "output_type": "execute_result"
    }
   ],
   "source": [
    "bag_cv.fit(*data.train_data())"
   ]
  },
  {
   "cell_type": "code",
   "execution_count": 9,
   "metadata": {
    "scrolled": true
   },
   "outputs": [
    {
     "data": {
      "text/plain": [
       "(-26.693951632256393,\n",
       " {'pipeline__baggingregressor__base_estimator__booster': 'gbtree',\n",
       "  'pipeline__baggingregressor__base_estimator__colsample_bylevel': 0.9459212356676129,\n",
       "  'pipeline__baggingregressor__base_estimator__colsample_bytree': 0.9275114942710427,\n",
       "  'pipeline__baggingregressor__base_estimator__learning_rate': 0.11936063712881632,\n",
       "  'pipeline__baggingregressor__base_estimator__max_depth': 2,\n",
       "  'pipeline__baggingregressor__base_estimator__n_estimators': 121,\n",
       "  'pipeline__baggingregressor__base_estimator__reg_alpha': 0.14264895744459902,\n",
       "  'pipeline__baggingregressor__base_estimator__reg_lambda': 1.1303925243084487,\n",
       "  'pipeline__baggingregressor__base_estimator__subsample': 0.9122554395138993,\n",
       "  'pipeline__baggingregressor__n_estimators': 11,\n",
       "  'pipeline__correlationchooser__threshold': 0.00808671790768627})"
      ]
     },
     "execution_count": 9,
     "metadata": {},
     "output_type": "execute_result"
    }
   ],
   "source": [
    "bag_cv.best_score_, bag_cv.best_params_"
   ]
  },
  {
   "cell_type": "markdown",
   "metadata": {},
   "source": [
    "### Feature selection with p-values"
   ]
  },
  {
   "cell_type": "code",
   "execution_count": 10,
   "metadata": {
    "scrolled": true
   },
   "outputs": [
    {
     "data": {
      "text/plain": [
       "[37.80652303510624,\n",
       " 36.913854852575106,\n",
       " 18.99903201849108,\n",
       " 15.504556232321056,\n",
       " 10.226574277517418,\n",
       " 8.994557956029597,\n",
       " 8.508626257686057,\n",
       " 7.371962377430887,\n",
       " 6.027224980570079,\n",
       " 5.725784443015967,\n",
       " 5.541278499735064,\n",
       " 4.995320765789657,\n",
       " 4.815490702258952,\n",
       " 4.462484554650376,\n",
       " 4.326303549644458,\n",
       " 4.29269848123336,\n",
       " 4.12396366651747,\n",
       " 3.400586083866208,\n",
       " 3.3297152587942183,\n",
       " 3.027407299925779,\n",
       " 2.9720305688363102,\n",
       " 2.7829934462079553,\n",
       " 2.683708132851522,\n",
       " 2.66855397607975,\n",
       " 2.495500737634841,\n",
       " 2.4040503762790135,\n",
       " 2.2883484828051532,\n",
       " 2.036805008033016,\n",
       " 2.0313510490242677,\n",
       " 1.9313371257291414,\n",
       " 1.8385206573973674,\n",
       " 1.520058043345755,\n",
       " 1.3047036039800906,\n",
       " 1.2420240799310625,\n",
       " 1.2188895985051502,\n",
       " 1.0676727027641788,\n",
       " 0.9293721727038188,\n",
       " 0.8835297148677468,\n",
       " 0.8318529724419407,\n",
       " 0.8143978018763693,\n",
       " 0.7511401425695381,\n",
       " 0.7335180072694136,\n",
       " 0.5932457783680334,\n",
       " 0.5886178214812128,\n",
       " 0.5478916940603118,\n",
       " 0.5244264977281152,\n",
       " 0.5228862429177832,\n",
       " 0.4758548448956708,\n",
       " 0.44042150581548134,\n",
       " 0.4296828103890146,\n",
       " 0.3597197240052515,\n",
       " 0.33932939612512636,\n",
       " 0.3187010034811504,\n",
       " 0.306803757972816,\n",
       " 0.30210187563806573,\n",
       " 0.29082781086481535,\n",
       " 0.2852372277515456,\n",
       " 0.2847809055531655,\n",
       " 0.2764732416866736,\n",
       " 0.26748122486097603,\n",
       " 0.2647156081674097,\n",
       " 0.2642087702608684,\n",
       " 0.25785179169848815,\n",
       " 0.25466467245153007,\n",
       " 0.2409991544913594,\n",
       " 0.23417528441552704,\n",
       " 0.22678073444412025,\n",
       " 0.22666955641223446,\n",
       " 0.21859760407098985,\n",
       " 0.21345907479525164,\n",
       " 0.20718893113499023,\n",
       " 0.2000379417615284,\n",
       " 0.18784705940408206,\n",
       " 0.1846904929306849,\n",
       " 0.1838346311912418,\n",
       " 0.17960509946368816,\n",
       " 0.1753692585879712,\n",
       " 0.16808739296257574,\n",
       " 0.1462050113664114,\n",
       " 0.1456656532402567,\n",
       " 0.1364581189577536,\n",
       " 0.12461456298958595,\n",
       " 0.11784969646987899,\n",
       " 0.11784969646292467,\n",
       " 0.11529723705912054,\n",
       " 0.10959761647922062,\n",
       " 0.10927936348968996,\n",
       " 0.10706197384910027,\n",
       " 0.10622859438733503,\n",
       " 0.1052538800245916,\n",
       " 0.09723840157860593,\n",
       " 0.09060019330630417,\n",
       " 0.07974091474625951,\n",
       " 0.060883441012120613,\n",
       " 0.05912902420124829,\n",
       " 0.04919529293967239,\n",
       " 0.04889219910620607,\n",
       " 0.0481606325701281,\n",
       " 0.047891035305599114,\n",
       " 0.045556050060661504,\n",
       " 0.04201076312755325,\n",
       " 0.03939197080415545,\n",
       " 0.039314784256759654,\n",
       " 0.03834568694615697,\n",
       " 0.03809703458101866,\n",
       " 0.020531802829178478,\n",
       " 0.0158225322362919,\n",
       " 0.013992199591876139,\n",
       " 0.013925618403002679,\n",
       " 0.003114000282084435,\n",
       " 0.0015838602684870044,\n",
       " 0.0015024147565157813,\n",
       " 0.001345326034364674,\n",
       " 0.0005345010426890657]"
      ]
     },
     "execution_count": 10,
     "metadata": {},
     "output_type": "execute_result"
    }
   ],
   "source": [
    "from sklearn.feature_selection import SelectFromModel\n",
    "from sklearn.linear_model import Ridge\n",
    "\n",
    "ridge = Ridge()\n",
    "X_train, y_train = data.train_data()\n",
    "ridge.fit(pd.get_dummies(X_train), y_train)\n",
    "\n",
    "sorted(abs(ridge.coef_), reverse=True)"
   ]
  },
  {
   "cell_type": "code",
   "execution_count": 11,
   "metadata": {},
   "outputs": [],
   "source": [
    "bag_model3 = clone(bag_model)\n",
    "bag_model3.pipeline.steps = [bag_model3.pipeline.steps[0]] + [\n",
    "    (\n",
    "        \"selectfrommodel\",\n",
    "        SelectFromModel(Ridge(), threshold=0.5)\n",
    "    )\n",
    "] + bag_model3.pipeline.steps[1:]\n",
    "\n",
    "\n",
    "bag_params3 = {\n",
    "    'pipeline__baggingregressor__n_estimators': stats.randint(5, 15),\n",
    "    'pipeline__baggingregressor__base_estimator__booster': ['gbtree', 'gblinear', 'dart'],\n",
    "    'pipeline__baggingregressor__base_estimator__colsample_bylevel': stats.uniform(0.8, 0.2),\n",
    "    'pipeline__baggingregressor__base_estimator__colsample_bytree': stats.uniform(0.8, 0.2),\n",
    "    'pipeline__baggingregressor__base_estimator__learning_rate': stats.uniform(0.075, 0.05),\n",
    "    'pipeline__baggingregressor__base_estimator__max_depth': stats.randint(2, 10),\n",
    "    'pipeline__baggingregressor__base_estimator__n_estimators': stats.randint(75, 150),\n",
    "    'pipeline__baggingregressor__base_estimator__reg_alpha': stats.uniform(0.0, 0.2),\n",
    "    'pipeline__baggingregressor__base_estimator__reg_lambda': stats.uniform(0.75, 0.5),\n",
    "    'pipeline__baggingregressor__base_estimator__subsample': stats.uniform(0.8, 0.2),\n",
    "    'pipeline__selectfrommodel__threshold': ['median', 'mean', 0.01, 0.05, 0.1],\n",
    "    'pipeline__selectfrommodel__estimator__alpha': stats.uniform(0.75, 0.5),\n",
    "    'pipeline__selectfrommodel__estimator__solver': ['auto', 'svd', 'cholesky', 'lsqr', 'sparse_cg', 'sag', 'saga'],\n",
    "}\n",
    "\n",
    "bag_cv3 = RandomizedSearchCV(bag_model3, bag_params3, scoring=SCORING, n_jobs=-1,\n",
    "                            cv=CV, n_iter=N_ITER)"
   ]
  },
  {
   "cell_type": "code",
   "execution_count": 12,
   "metadata": {
    "scrolled": true
   },
   "outputs": [
    {
     "data": {
      "text/plain": [
       "RandomizedSearchCV(cv=5, error_score='raise-deprecating',\n",
       "          estimator=EnsembleModel(name='EnsembleModel',\n",
       "       pipeline=Pipeline(memory=None,\n",
       "     steps=[('columntransformer', ColumnTransformer(n_jobs=None, remainder='passthrough', sparse_threshold=0.3,\n",
       "         transformer_weights=None,\n",
       "         transformers=[('onehotencoder', OneHotEncoder(categorical_features=None,\n",
       "       categories=[['Adelaide', 'Brisbane', 'Carlton', 'Collingwood', 'Essen...imators=10, n_jobs=None, oob_score=False,\n",
       "         random_state=None, verbose=0, warm_start=False))])),\n",
       "          fit_params=None, iid='warn', n_iter=5, n_jobs=-1,\n",
       "          param_distributions={'pipeline__baggingregressor__n_estimators': <scipy.stats._distn_infrastructure.rv_frozen object at 0x7fab8d322588>, 'pipeline__baggingregressor__base_estimator__booster': ['gbtree', 'gblinear', 'dart'], 'pipeline__baggingregressor__base_estimator__colsample_bylevel': <scipy.stat...electfrommodel__estimator__solver': ['auto', 'svd', 'cholesky', 'lsqr', 'sparse_cg', 'sag', 'saga']},\n",
       "          pre_dispatch='2*n_jobs', random_state=None, refit=True,\n",
       "          return_train_score='warn', scoring='neg_mean_absolute_error',\n",
       "          verbose=0)"
      ]
     },
     "execution_count": 12,
     "metadata": {},
     "output_type": "execute_result"
    }
   ],
   "source": [
    "bag_cv3.fit(*data.train_data())"
   ]
  },
  {
   "cell_type": "code",
   "execution_count": 13,
   "metadata": {},
   "outputs": [
    {
     "data": {
      "text/plain": [
       "(-26.622058367874008,\n",
       " {'pipeline__baggingregressor__base_estimator__booster': 'gbtree',\n",
       "  'pipeline__baggingregressor__base_estimator__colsample_bylevel': 0.8591267371675428,\n",
       "  'pipeline__baggingregressor__base_estimator__colsample_bytree': 0.8210988519660541,\n",
       "  'pipeline__baggingregressor__base_estimator__learning_rate': 0.0978267285241455,\n",
       "  'pipeline__baggingregressor__base_estimator__max_depth': 5,\n",
       "  'pipeline__baggingregressor__base_estimator__n_estimators': 118,\n",
       "  'pipeline__baggingregressor__base_estimator__reg_alpha': 0.08330198957407325,\n",
       "  'pipeline__baggingregressor__base_estimator__reg_lambda': 1.191640129459434,\n",
       "  'pipeline__baggingregressor__base_estimator__subsample': 0.8648690042010548,\n",
       "  'pipeline__baggingregressor__n_estimators': 11,\n",
       "  'pipeline__selectfrommodel__estimator__alpha': 1.1980456499617467,\n",
       "  'pipeline__selectfrommodel__estimator__solver': 'saga',\n",
       "  'pipeline__selectfrommodel__threshold': 'median'})"
      ]
     },
     "execution_count": 13,
     "metadata": {},
     "output_type": "execute_result"
    }
   ],
   "source": [
    "bag_cv3.best_score_, bag_cv3.best_params_"
   ]
  },
  {
   "cell_type": "markdown",
   "metadata": {},
   "source": [
    "### Bagging XGB without extra feature selection is better\n",
    "Given that XGB has its own built-in feature selection probably makes adding a feature selection step to the pipeline superfluous."
   ]
  },
  {
   "cell_type": "markdown",
   "metadata": {},
   "source": [
    "## Dimension reduction"
   ]
  },
  {
   "cell_type": "markdown",
   "metadata": {},
   "source": [
    "### PCA"
   ]
  },
  {
   "cell_type": "code",
   "execution_count": 14,
   "metadata": {
    "scrolled": false
   },
   "outputs": [
    {
     "data": {
      "text/plain": [
       "array([0.52156993, 0.92467793, 0.99702563, 0.99914274, 0.9995079 ,\n",
       "       0.99960309, 0.99968507, 0.99976493, 0.99982684, 0.99987036,\n",
       "       0.99989177, 0.99991088, 0.99992471, 0.99993472, 0.99994399,\n",
       "       0.99995147, 0.99995865, 0.99996427, 0.99996964, 0.99997483,\n",
       "       0.99997858, 0.99998206, 0.99998435, 0.99998615, 0.99998769,\n",
       "       0.99998911, 0.99999043, 0.99999172, 0.99999275, 0.99999359,\n",
       "       0.9999944 , 0.99999512, 0.99999573, 0.99999615, 0.99999651,\n",
       "       0.99999684, 0.99999713, 0.9999974 , 0.99999766, 0.9999979 ,\n",
       "       0.99999812, 0.99999833, 0.99999852, 0.99999871, 0.99999886,\n",
       "       0.99999901, 0.99999914, 0.99999925, 0.99999936, 0.99999945,\n",
       "       0.99999952, 0.99999958, 0.99999963, 0.99999967, 0.99999971,\n",
       "       0.99999974, 0.99999976, 0.99999978, 0.99999979, 0.99999981,\n",
       "       0.99999982, 0.99999983, 0.99999984, 0.99999985, 0.99999985,\n",
       "       0.99999986, 0.99999987, 0.99999988, 0.99999988, 0.99999989,\n",
       "       0.9999999 , 0.9999999 , 0.99999991, 0.99999992, 0.99999992,\n",
       "       0.99999993, 0.99999993, 0.99999994, 0.99999995, 0.99999995,\n",
       "       0.99999996, 0.99999996, 0.99999997, 0.99999997, 0.99999998,\n",
       "       0.99999998, 0.99999998, 0.99999998, 0.99999998, 0.99999999,\n",
       "       0.99999999, 0.99999999, 0.99999999, 0.99999999, 0.99999999,\n",
       "       0.99999999, 1.        , 1.        , 1.        , 1.        ,\n",
       "       1.        , 1.        , 1.        , 1.        , 1.        ,\n",
       "       1.        , 1.        , 1.        , 1.        , 1.        ,\n",
       "       1.        , 1.        , 1.        , 1.        ])"
      ]
     },
     "execution_count": 14,
     "metadata": {},
     "output_type": "execute_result"
    }
   ],
   "source": [
    "X_train, _ = data.train_data()\n",
    "\n",
    "pca = PCA()\n",
    "pca.fit_transform(pd.get_dummies(X_train))\n",
    "np.cumsum(pca.explained_variance_ratio_)"
   ]
  },
  {
   "cell_type": "code",
   "execution_count": 16,
   "metadata": {},
   "outputs": [
    {
     "data": {
      "text/plain": [
       "Text(0, 0.5, '% of Variance Explained < = k')"
      ]
     },
     "execution_count": 16,
     "metadata": {},
     "output_type": "execute_result"
    },
    {
     "data": {
      "image/png": "[encoded data removed]",
      "text/plain": [
       "<Figure size 432x288 with 1 Axes>"
      ]
     },
     "metadata": {
      "needs_background": "light"
     },
     "output_type": "display_data"
    }
   ],
   "source": [
    "import matplotlib.pyplot as plt\n",
    "\n",
    "plt.plot(np.cumsum(pca.explained_variance_ratio_))\n",
    "plt.title('Scree Plot')\n",
    "plt.xlabel('Principal Component (k)')\n",
    "plt.ylabel('% of Variance Explained < = k')\n"
   ]
  },
  {
   "cell_type": "markdown",
   "metadata": {},
   "source": [
    "### Top 3 components explain 99% of variance"
   ]
  },
  {
   "cell_type": "code",
   "execution_count": 17,
   "metadata": {},
   "outputs": [],
   "source": [
    "n_features = len(data.train_data()[0].columns)\n",
    "\n",
    "bag_model4 = clone(bag_model)\n",
    "bag_model4.pipeline.steps = [\n",
    "    (\n",
    "        'columntransformer',\n",
    "         ColumnTransformer(\n",
    "            [\n",
    "                (\n",
    "                    \"onehotencoder\",\n",
    "                    OneHotEncoder(\n",
    "                        categories=[TEAM_NAMES, TEAM_NAMES, ROUND_TYPES], sparse=False\n",
    "                    ),\n",
    "                    list(range(3)),\n",
    "                ),\n",
    "                (\n",
    "                    'pca',\n",
    "                    PCA(),\n",
    "                    list(range(3, n_features)),\n",
    "                )\n",
    "            ],\n",
    "            remainder=\"passthrough\",\n",
    "        ),\n",
    "    ),\n",
    "] + bag_model4.pipeline.steps[1:]\n",
    "\n",
    "\n",
    "bag_params4 = {\n",
    "    'pipeline__baggingregressor__n_estimators': stats.randint(5, 15),\n",
    "    'pipeline__baggingregressor__base_estimator__booster': ['gbtree', 'gblinear', 'dart'],\n",
    "    'pipeline__baggingregressor__base_estimator__colsample_bylevel': stats.uniform(0.8, 0.2),\n",
    "    'pipeline__baggingregressor__base_estimator__colsample_bytree': stats.uniform(0.8, 0.2),\n",
    "    'pipeline__baggingregressor__base_estimator__learning_rate': stats.uniform(0.075, 0.05),\n",
    "    'pipeline__baggingregressor__base_estimator__max_depth': stats.randint(2, 10),\n",
    "    'pipeline__baggingregressor__base_estimator__n_estimators': stats.randint(75, 150),\n",
    "    'pipeline__baggingregressor__base_estimator__reg_alpha': stats.uniform(0.0, 0.2),\n",
    "    'pipeline__baggingregressor__base_estimator__reg_lambda': stats.uniform(0.75, 0.5),\n",
    "    'pipeline__baggingregressor__base_estimator__subsample': stats.uniform(0.8, 0.2),\n",
    "    'pipeline__columntransformer__pca__n_components': stats.randint(3, 60),\n",
    "}\n",
    "\n",
    "bag_cv4 = RandomizedSearchCV(bag_model4, bag_params4, scoring=SCORING, n_jobs=-1,\n",
    "                            cv=CV, n_iter=N_ITER)"
   ]
  },
  {
   "cell_type": "code",
   "execution_count": 18,
   "metadata": {
    "scrolled": true
   },
   "outputs": [
    {
     "name": "stderr",
     "output_type": "stream",
     "text": [
      "/usr/local/lib/python3.6/site-packages/sklearn/externals/joblib/externals/loky/process_executor.py:706: UserWarning: A worker stopped while some jobs were given to the executor. This can be caused by a too short worker timeout or by a memory leak.\n",
      "  \"timeout or by a memory leak.\", UserWarning\n",
      "/usr/local/lib/python3.6/site-packages/sklearn/externals/joblib/externals/loky/process_executor.py:706: UserWarning: A worker stopped while some jobs were given to the executor. This can be caused by a too short worker timeout or by a memory leak.\n",
      "  \"timeout or by a memory leak.\", UserWarning\n",
      "/usr/local/lib/python3.6/site-packages/sklearn/externals/joblib/externals/loky/process_executor.py:706: UserWarning: A worker stopped while some jobs were given to the executor. This can be caused by a too short worker timeout or by a memory leak.\n",
      "  \"timeout or by a memory leak.\", UserWarning\n"
     ]
    },
    {
     "data": {
      "text/plain": [
       "RandomizedSearchCV(cv=5, error_score='raise-deprecating',\n",
       "          estimator=EnsembleModel(name='EnsembleModel',\n",
       "       pipeline=Pipeline(memory=None,\n",
       "     steps=[('columntransformer', ColumnTransformer(n_jobs=None, remainder='passthrough', sparse_threshold=0.3,\n",
       "         transformer_weights=None,\n",
       "         transformers=[('onehotencoder', OneHotEncoder(categorical_features=None,\n",
       "       categories=[['Adelaide', 'Brisbane', 'Carlton', 'Collingwood', 'Essen...imators=10, n_jobs=None, oob_score=False,\n",
       "         random_state=None, verbose=0, warm_start=False))])),\n",
       "          fit_params=None, iid='warn', n_iter=5, n_jobs=-1,\n",
       "          param_distributions={'pipeline__baggingregressor__n_estimators': <scipy.stats._distn_infrastructure.rv_frozen object at 0x7fab76936438>, 'pipeline__baggingregressor__base_estimator__booster': ['gbtree', 'gblinear', 'dart'], 'pipeline__baggingregressor__base_estimator__colsample_bylevel': <scipy.stat...sformer__pca__n_components': <scipy.stats._distn_infrastructure.rv_frozen object at 0x7fab7692ee10>},\n",
       "          pre_dispatch='2*n_jobs', random_state=None, refit=True,\n",
       "          return_train_score='warn', scoring='neg_mean_absolute_error',\n",
       "          verbose=0)"
      ]
     },
     "execution_count": 18,
     "metadata": {},
     "output_type": "execute_result"
    }
   ],
   "source": [
    "bag_cv4.fit(*data.train_data())"
   ]
  },
  {
   "cell_type": "code",
   "execution_count": 19,
   "metadata": {},
   "outputs": [
    {
     "data": {
      "text/plain": [
       "(-28.040386229219877,\n",
       " {'pipeline__baggingregressor__base_estimator__booster': 'dart',\n",
       "  'pipeline__baggingregressor__base_estimator__colsample_bylevel': 0.8180579540108817,\n",
       "  'pipeline__baggingregressor__base_estimator__colsample_bytree': 0.9670604991178476,\n",
       "  'pipeline__baggingregressor__base_estimator__learning_rate': 0.0910390032485868,\n",
       "  'pipeline__baggingregressor__base_estimator__max_depth': 7,\n",
       "  'pipeline__baggingregressor__base_estimator__n_estimators': 77,\n",
       "  'pipeline__baggingregressor__base_estimator__reg_alpha': 0.11817858863764837,\n",
       "  'pipeline__baggingregressor__base_estimator__reg_lambda': 1.0887821809211413,\n",
       "  'pipeline__baggingregressor__base_estimator__subsample': 0.8033175657855712,\n",
       "  'pipeline__baggingregressor__n_estimators': 7,\n",
       "  'pipeline__columntransformer__pca__n_components': 21})"
      ]
     },
     "execution_count": 19,
     "metadata": {},
     "output_type": "execute_result"
    }
   ],
   "source": [
    "bag_cv4.best_score_, bag_cv4.best_params_"
   ]
  },
  {
   "cell_type": "markdown",
   "metadata": {},
   "source": [
    "### RBM"
   ]
  },
  {
   "cell_type": "code",
   "execution_count": 20,
   "metadata": {},
   "outputs": [],
   "source": [
    "from sklearn.preprocessing import MinMaxScaler\n",
    "from sklearn.neural_network import BernoulliRBM\n",
    "\n",
    "n_features = len(data.train_data()[0].columns)\n",
    "\n",
    "bag_model5 = clone(bag_model)\n",
    "bag_model5.pipeline.steps = bag_model4.pipeline.steps[:1] + [\n",
    "    ('minmax', MinMaxScaler()),\n",
    "    ('rbm', BernoulliRBM()),\n",
    "] + bag_model5.pipeline.steps[1:]\n",
    "\n",
    "\n",
    "bag_params5 = {\n",
    "    'pipeline__baggingregressor__n_estimators': stats.randint(5, 15),\n",
    "    'pipeline__baggingregressor__base_estimator__booster': ['gbtree', 'gblinear', 'dart'],\n",
    "    'pipeline__baggingregressor__base_estimator__colsample_bylevel': stats.uniform(0.8, 0.2),\n",
    "    'pipeline__baggingregressor__base_estimator__colsample_bytree': stats.uniform(0.8, 0.2),\n",
    "    'pipeline__baggingregressor__base_estimator__learning_rate': stats.uniform(0.075, 0.05),\n",
    "    'pipeline__baggingregressor__base_estimator__max_depth': stats.randint(2, 10),\n",
    "    'pipeline__baggingregressor__base_estimator__n_estimators': stats.randint(75, 150),\n",
    "    'pipeline__baggingregressor__base_estimator__reg_alpha': stats.uniform(0.0, 0.2),\n",
    "    'pipeline__baggingregressor__base_estimator__reg_lambda': stats.uniform(0.75, 0.5),\n",
    "    'pipeline__baggingregressor__base_estimator__subsample': stats.uniform(0.8, 0.2),\n",
    "    'pipeline__rbm__n_components': stats.randint(20, 80),\n",
    "    'pipeline__rbm__learning_rate': stats.uniform(0.001, 0.999),\n",
    "}\n",
    "\n",
    "bag_cv5 = RandomizedSearchCV(bag_model5, bag_params5, scoring=SCORING, n_jobs=-1,\n",
    "                            cv=CV, n_iter=N_ITER)"
   ]
  },
  {
   "cell_type": "code",
   "execution_count": 21,
   "metadata": {
    "scrolled": true
   },
   "outputs": [
    {
     "name": "stderr",
     "output_type": "stream",
     "text": [
      "/usr/local/lib/python3.6/site-packages/sklearn/externals/joblib/externals/loky/process_executor.py:706: UserWarning: A worker stopped while some jobs were given to the executor. This can be caused by a too short worker timeout or by a memory leak.\n",
      "  \"timeout or by a memory leak.\", UserWarning\n",
      "/usr/local/lib/python3.6/site-packages/sklearn/externals/joblib/externals/loky/process_executor.py:706: UserWarning: A worker stopped while some jobs were given to the executor. This can be caused by a too short worker timeout or by a memory leak.\n",
      "  \"timeout or by a memory leak.\", UserWarning\n"
     ]
    },
    {
     "data": {
      "text/plain": [
       "RandomizedSearchCV(cv=5, error_score='raise-deprecating',\n",
       "          estimator=EnsembleModel(name='EnsembleModel',\n",
       "       pipeline=Pipeline(memory=None,\n",
       "     steps=[('columntransformer', ColumnTransformer(n_jobs=None, remainder='passthrough', sparse_threshold=0.3,\n",
       "         transformer_weights=None,\n",
       "         transformers=[('onehotencoder', OneHotEncoder(categorical_features=None,\n",
       "       categories=[['Adelaide', 'Brisbane', 'Carlton', 'Collingwood', 'Essen...imators=10, n_jobs=None, oob_score=False,\n",
       "         random_state=None, verbose=0, warm_start=False))])),\n",
       "          fit_params=None, iid='warn', n_iter=5, n_jobs=-1,\n",
       "          param_distributions={'pipeline__baggingregressor__n_estimators': <scipy.stats._distn_infrastructure.rv_frozen object at 0x7fab7692f358>, 'pipeline__baggingregressor__base_estimator__booster': ['gbtree', 'gblinear', 'dart'], 'pipeline__baggingregressor__base_estimator__colsample_bylevel': <scipy.stat...peline__rbm__learning_rate': <scipy.stats._distn_infrastructure.rv_frozen object at 0x7fab7b7466d8>},\n",
       "          pre_dispatch='2*n_jobs', random_state=None, refit=True,\n",
       "          return_train_score='warn', scoring='neg_mean_absolute_error',\n",
       "          verbose=0)"
      ]
     },
     "execution_count": 21,
     "metadata": {},
     "output_type": "execute_result"
    }
   ],
   "source": [
    "bag_cv5.fit(*data.train_data())"
   ]
  },
  {
   "cell_type": "code",
   "execution_count": 22,
   "metadata": {},
   "outputs": [
    {
     "data": {
      "text/plain": [
       "(-31.67348778291215,\n",
       " {'pipeline__baggingregressor__base_estimator__booster': 'dart',\n",
       "  'pipeline__baggingregressor__base_estimator__colsample_bylevel': 0.84106658774136,\n",
       "  'pipeline__baggingregressor__base_estimator__colsample_bytree': 0.8966079395117781,\n",
       "  'pipeline__baggingregressor__base_estimator__learning_rate': 0.08842668780338037,\n",
       "  'pipeline__baggingregressor__base_estimator__max_depth': 5,\n",
       "  'pipeline__baggingregressor__base_estimator__n_estimators': 98,\n",
       "  'pipeline__baggingregressor__base_estimator__reg_alpha': 0.13135121269491143,\n",
       "  'pipeline__baggingregressor__base_estimator__reg_lambda': 1.234268665849946,\n",
       "  'pipeline__baggingregressor__base_estimator__subsample': 0.920727440111875,\n",
       "  'pipeline__baggingregressor__n_estimators': 11,\n",
       "  'pipeline__rbm__learning_rate': 0.17293849221995491,\n",
       "  'pipeline__rbm__n_components': 66})"
      ]
     },
     "execution_count": 22,
     "metadata": {},
     "output_type": "execute_result"
    }
   ],
   "source": [
    "bag_cv5.best_score_, bag_cv5.best_params_"
   ]
  },
  {
   "cell_type": "markdown",
   "metadata": {},
   "source": [
    "### Adding PCA or RBM step hurts performance quite a bit"
   ]
  },
  {
   "cell_type": "code",
   "execution_count": null,
   "metadata": {},
   "outputs": [],
   "source": []
  }
 ],
 "metadata": {
  "kernelspec": {
   "display_name": "Python 3",
   "language": "python",
   "name": "python3"
  },
  "language_info": {
   "codemirror_mode": {
    "name": "ipython",
    "version": 3
   },
   "file_extension": ".py",
   "mimetype": "text/x-python",
   "name": "python",
   "nbconvert_exporter": "python",
   "pygments_lexer": "ipython3",
   "version": "3.6.7"
  }
 },
 "nbformat": 4,
 "nbformat_minor": 2
}
